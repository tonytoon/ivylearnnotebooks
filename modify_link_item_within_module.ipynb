{
  "nbformat": 4,
  "nbformat_minor": 0,
  "metadata": {
    "colab": {
      "name": "modify_link_item_within_module",
      "private_outputs": true,
      "provenance": [],
      "collapsed_sections": [],
      "authorship_tag": "ABX9TyN9775Bc34YH3ukqtUL8dv2",
      "include_colab_link": true
    },
    "kernelspec": {
      "name": "python3",
      "display_name": "Python 3"
    },
    "language_info": {
      "name": "python"
    }
  },
  "cells": [
    {
      "cell_type": "markdown",
      "metadata": {
        "id": "view-in-github",
        "colab_type": "text"
      },
      "source": [
        "<a href=\"https://colab.research.google.com/github/tonytoon/ivylearnnotebooks/blob/main/modify_link_item_within_module.ipynb\" target=\"_parent\"><img src=\"https://colab.research.google.com/assets/colab-badge.svg\" alt=\"Open In Colab\"/></a>"
      ]
    },
    {
      "cell_type": "markdown",
      "source": [
        "This updates the a link within a module to point to a new link. In this case, it looks only in modules titled \"Course Resources\" and changes the URL that \"Report Course Issues\" points to. It also makes sure that it opens in a new tab."
      ],
      "metadata": {
        "id": "tVdEt2CUElAw"
      }
    },
    {
      "cell_type": "code",
      "source": [
        "!pip install canvasapi"
      ],
      "metadata": {
        "id": "ch_u_ZQpAaX8"
      },
      "execution_count": null,
      "outputs": []
    },
    {
      "cell_type": "code",
      "source": [
        "from canvasapi import Canvas # used for interfacing with canvas\n",
        "\n",
        "# Canvas API URL\n",
        "# ALWAYS test scripts on the beta server until you are 100% that it will work properly.\n",
        "#API_URL = \"https://.beta.instructure.com\" # beta\n",
        "API_URL = \"https://.instructure.com\" # prod\n",
        "\n",
        "# Canvas API key\n",
        "#API_KEY = \"\" #beta\n",
        "API_KEY = \"\" #prod\n",
        "\n",
        "# Initialize a new Canvas object\n",
        "canvas = Canvas(API_URL, API_KEY)\n",
        "account = canvas.get_account(16345)\n",
        "\n",
        "# set our parameters here\n",
        "#term = 3265\n",
        "module_title = \"Instructor Resources\"\n",
        "item_title = \"Report Course Issues\"\n",
        "new_url = \"https://link.goes.here.com\"\n"
      ],
      "metadata": {
        "id": "7928zeek-QI2"
      },
      "execution_count": null,
      "outputs": []
    },
    {
      "cell_type": "code",
      "source": [
        "# we're doing an entire subaccount, otherwise we'd use:\n",
        "# courses = account.get_courses(enrollment_term_id=term)\n",
        "courses = account.get_courses()\n",
        "for course in courses:\n",
        "  modules = course.get_modules(search_term=module_title)\n",
        "  for module in modules:\n",
        "    items = module.get_module_items(search_term=item_title)\n",
        "    for item in items:\n",
        "      \n",
        "      # see https://canvasapi.readthedocs.io/en/stable/keyword-args.html#nested-parameters\n",
        "      # see https://canvasapi.readthedocs.io/en/stable/module-ref.html#moduleitem\n",
        "      # see https://canvas.instructure.com/doc/api/modules.html#method.context_module_items_api.index\n",
        "\n",
        "      item.edit(\n",
        "          module_item = {\n",
        "              \"external_url\" : new_url,\n",
        "              \"new_tab\" : True\n",
        "          }\n",
        "      )\n"
      ],
      "metadata": {
        "id": "cB8QWx8hLgdO"
      },
      "execution_count": null,
      "outputs": []
    }
  ]
}