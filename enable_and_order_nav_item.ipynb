{
  "nbformat": 4,
  "nbformat_minor": 0,
  "metadata": {
    "colab": {
      "name": "enable_and_order_nav_item",
      "private_outputs": true,
      "provenance": [],
      "collapsed_sections": [],
      "authorship_tag": "ABX9TyOi/BlDUnUyBimghRt1w7IW",
      "include_colab_link": true
    },
    "kernelspec": {
      "name": "python3",
      "display_name": "Python 3"
    },
    "language_info": {
      "name": "python"
    }
  },
  "cells": [
    {
      "cell_type": "markdown",
      "metadata": {
        "id": "view-in-github",
        "colab_type": "text"
      },
      "source": [
        "<a href=\"https://colab.research.google.com/github/tonytoon/ivylearnnotebooks/blob/main/enable_and_order_nav_item.ipynb\" target=\"_parent\"><img src=\"https://colab.research.google.com/assets/colab-badge.svg\" alt=\"Open In Colab\"/></a>"
      ]
    },
    {
      "cell_type": "markdown",
      "source": [
        "This is a simple example of enabling an existing navigation item, and placing it below another item (if the other item exists) - otherwise we place it at the bottom."
      ],
      "metadata": {
        "id": "tVdEt2CUElAw"
      }
    },
    {
      "cell_type": "code",
      "source": [
        "!pip install canvasapi"
      ],
      "metadata": {
        "id": "ch_u_ZQpAaX8"
      },
      "execution_count": null,
      "outputs": []
    },
    {
      "cell_type": "code",
      "source": [
        "from canvasapi import Canvas # used for interfacing with canvas\n",
        "\n",
        "# Canvas API URL\n",
        "# ALWAYS test scripts on the beta server until you are 100% that it will work properly.\n",
        "#API_URL = \"https://.beta.instructure.com\" # beta\n",
        "API_URL = \"https://.instructure.com\" # prod\n",
        "\n",
        "# Canvas API key\n",
        "#API_KEY = \"\" #beta\n",
        "API_KEY = \"\" #prod\n",
        "\n",
        "# Initialize a new Canvas object\n",
        "canvas = Canvas(API_URL, API_KEY)\n",
        "account = canvas.get_account(16345)\n",
        "\n",
        "# set our parameters here\n",
        "#term = 3265\n"
      ],
      "metadata": {
        "id": "7928zeek-QI2"
      },
      "execution_count": null,
      "outputs": []
    },
    {
      "cell_type": "code",
      "source": [
        "# we're doing an entire subaccount, otherwise we'd use:\n",
        "# courses = account.get_courses(enrollment_term_id=term)\n",
        "courses = account.get_courses()\n",
        "for course in courses:\n",
        "  tabs = course.get_tabs()\n",
        "  newposition = 256\n",
        "  \n",
        "  # see https://canvas.instructure.com/doc/api/tabs.html\n",
        "  # see https://canvasapi.readthedocs.io/en/stable/tab-ref.html\n",
        "  \n",
        "  for tab in tabs:\n",
        "    if \"Tutor.com\" in tab.label:\n",
        "      newposition = tab.position + 1\n",
        "\n",
        "  for tab in tabs:\n",
        "    if \"LinkedIn Learning\" in tab.label:\n",
        "      tab.update(hidden=False, position=newposition)\n",
        "      print(f\"{course} : {newposition}\")\n"
      ],
      "metadata": {
        "id": "cB8QWx8hLgdO"
      },
      "execution_count": null,
      "outputs": []
    }
  ]
}