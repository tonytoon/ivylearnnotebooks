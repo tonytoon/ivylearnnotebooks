{
  "nbformat": 4,
  "nbformat_minor": 0,
  "metadata": {
    "colab": {
      "name": "module_import_to_subaccount",
      "provenance": [],
      "collapsed_sections": [],
      "include_colab_link": true
    },
    "kernelspec": {
      "name": "python3",
      "display_name": "Python 3"
    },
    "language_info": {
      "name": "python"
    }
  },
  "cells": [
    {
      "cell_type": "markdown",
      "metadata": {
        "id": "view-in-github",
        "colab_type": "text"
      },
      "source": [
        "<a href=\"https://colab.research.google.com/github/tonytoon/ivylearnnotebooks/blob/main/module_import_to_subaccount.ipynb\" target=\"_parent\"><img src=\"https://colab.research.google.com/assets/colab-badge.svg\" alt=\"Open In Colab\"/></a>"
      ]
    },
    {
      "cell_type": "markdown",
      "source": [
        "This is a sample script to copy modules from one course to all courses for a given term in a given subaccount. This is used frequently for one of our service\n",
        "areas to create a module filled with resources specific to them, then push it out only to their courses.\n",
        "\n",
        "With modification, this could be used to push multiple types of content out. You'll need to play with the \"select\" argument in the content migration."
      ],
      "metadata": {
        "id": "AxkJQYGekwvN"
      }
    },
    {
      "cell_type": "code",
      "execution_count": null,
      "metadata": {
        "id": "7occ1j6syw2-"
      },
      "outputs": [],
      "source": [
        "!pip install canvasapi"
      ]
    },
    {
      "cell_type": "code",
      "source": [
        "from canvasapi import Canvas # used for interfacing with canvas\n",
        "\n",
        "# Canvas API URL\n",
        "# ALWAYS test scripts on the beta server until you are 100% that it will work properly.\n",
        "#API_URL = \".beta.instructure.com\" # beta\n",
        "API_URL = \".instructure.com\" # prod\n",
        "\n",
        "# Canvas API key\n",
        "#API_KEY = \"\" #beta\n",
        "API_KEY = \"\" #prod\n",
        "\n",
        "# Initialize a new Canvas object\n",
        "canvas = Canvas(API_URL, API_KEY)"
      ],
      "metadata": {
        "id": "MOnsuWApO8gg"
      },
      "execution_count": null,
      "outputs": []
    },
    {
      "cell_type": "code",
      "source": [
        "# define which term we're interested in, which course we're copying from, and\n",
        "# which subaccount we're copying into.\n",
        "term = 3265 # summer 2022\n",
        "source_course_id = 1138574 #\n",
        "target_subaccount = 16166 #"
      ],
      "metadata": {
        "id": "dTpvlH1KkPNq"
      },
      "execution_count": null,
      "outputs": []
    },
    {
      "cell_type": "code",
      "source": [
        "\n",
        "# shouldn't need to modify anything below here.\n",
        "# unless you want to change what's imported\n",
        "\n",
        "mods = [] # empty list of module ids to populate later\n",
        "\n",
        "account = canvas.get_account(target_subaccount)\n",
        "\n",
        "# get the id of all modules in the source course\n",
        "modules = canvas.get_course(source_course_id).get_modules()\n",
        "for m in modules:\n",
        "  mods.append(m.id)\n",
        "\n",
        "# get all courses for a given term in a given subaccount\n",
        "courses = account.get_courses(enrollment_term_id=term)\n",
        "\n",
        "# create our content migration.\n",
        "# see: https://canvasapi.readthedocs.io/en/stable/course-ref.html#canvasapi.course.Course.create_content_migration\n",
        "# see: https://canvas.instructure.com/doc/api/content_migrations.html\n",
        "\n",
        "for course in courses:\n",
        "    print(course)\n",
        "    course.create_content_migration(\n",
        "      \"course_copy_importer\",\n",
        "      settings = {\n",
        "          \"source_course_id\" : source_course_id,\n",
        "          \"importer_skips\" : \"all_course_settings\"\n",
        "      },\n",
        "      \n",
        "      # select expects a dict which has a key defining what you want copied\n",
        "      # (modules in our case) and a value which is a list of IDs to copy.\n",
        "      # I was hoping to be able to tell it to just copy all modules,\n",
        "      # but couldn't figure out a way so I go through the source course\n",
        "      # and collect all the module ids beforehand.\n",
        "      \n",
        "      select = {\n",
        "          \"modules\" : mods\n",
        "      }\n",
        "    )"
      ],
      "metadata": {
        "id": "qrPM-grUPX5c"
      },
      "execution_count": null,
      "outputs": []
    }
  ]
}