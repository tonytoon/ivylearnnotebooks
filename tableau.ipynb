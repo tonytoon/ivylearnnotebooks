{
 "cells": [
  {
   "cell_type": "code",
   "execution_count": 2,
   "id": "47b1c73e",
   "metadata": {},
   "outputs": [],
   "source": [
    "import pandas as pd\n",
    "import tableauserverclient as TSC\n",
    "import ipywidgets as widgets\n",
    "from IPython.display import display"
   ]
  },
  {
   "cell_type": "code",
   "execution_count": 3,
   "id": "0dfd0834",
   "metadata": {},
   "outputs": [
    {
     "data": {
      "application/vnd.jupyter.widget-view+json": {
       "model_id": "11261c4ce6d9485dae755070a324ba4f",
       "version_major": 2,
       "version_minor": 0
      },
      "text/plain": [
       "Password(description='Password:', placeholder='Enter password')"
      ]
     },
     "metadata": {},
     "output_type": "display_data"
    }
   ],
   "source": [
    "myToken = widgets.Password(\n",
    "    placeholder='Enter password',\n",
    "    description='Password:',\n",
    "    disabled=False\n",
    ")\n",
    "display(myToken)"
   ]
  },
  {
   "cell_type": "code",
   "execution_count": 6,
   "id": "bd6629ee",
   "metadata": {},
   "outputs": [],
   "source": [
    "tableau_auth = TSC.PersonalAccessTokenAuth('Python', myToken.value, 'ivytechcommunitycollege')\n",
    "server = TSC.Server('https://us-east-1.online.tableau.com', use_server_version=True)"
   ]
  },
  {
   "cell_type": "code",
   "execution_count": 7,
   "id": "bc09822a",
   "metadata": {},
   "outputs": [],
   "source": [
    "with server.auth.sign_in(tableau_auth):\n",
    "    view_id = \"3b1377aa-baaa-417a-9006-3b5c5eac403e\"\n",
    "    view = server.views.get_by_id(view_id)\n",
    "    server.views.populate_csv(view)\n",
    "    mydata = \"\"\n",
    "    for row in view.csv:\n",
    "        mydata = mydata + row.decode('utf-8')"
   ]
  },
  {
   "cell_type": "code",
   "execution_count": null,
   "id": "e6d05557",
   "metadata": {},
   "outputs": [],
   "source": []
  }
 ],
 "metadata": {
  "kernelspec": {
   "display_name": "Python 3",
   "language": "python",
   "name": "python3"
  },
  "language_info": {
   "codemirror_mode": {
    "name": "ipython",
    "version": 3
   },
   "file_extension": ".py",
   "mimetype": "text/x-python",
   "name": "python",
   "nbconvert_exporter": "python",
   "pygments_lexer": "ipython3",
   "version": "3.8.8"
  }
 },
 "nbformat": 4,
 "nbformat_minor": 5
}
