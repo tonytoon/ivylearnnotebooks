{
 "cells": [
  {
   "cell_type": "code",
   "execution_count": 23,
   "id": "a74eaf9a",
   "metadata": {},
   "outputs": [],
   "source": [
    "# for encoding and downloading the file\n",
    "import base64\n",
    "from ipywidgets import HTML\n",
    "\n",
    "# for accessing data from Canvas\n",
    "from canvasapi import Canvas\n",
    "\n",
    "# for working with csv.reader\n",
    "import csv\n",
    "\n",
    "# pandas data manipulation\n",
    "import pandas as pd\n",
    "\n",
    "# for working with tableau\n",
    "import tableauserverclient as TSC\n",
    "\n",
    "# create widgets within jupyter notebook\n",
    "import ipywidgets as widgets\n",
    "from IPython.display import display\n",
    "\n",
    "# lets us treat strings as files - used to get\n",
    "# csv data from tableau to pandas\n",
    "from io import StringIO"
   ]
  },
  {
   "cell_type": "code",
   "execution_count": 2,
   "id": "9336e49a",
   "metadata": {
    "tags": [
     "hide_input"
    ]
   },
   "outputs": [
    {
     "data": {
      "application/vnd.jupyter.widget-view+json": {
       "model_id": "a63070c641bb45a287f5d7d9da4a0e99",
       "version_major": 2,
       "version_minor": 0
      },
      "text/plain": [
       "Password(description='Tableau Token:', placeholder='Enter Tableau Token')"
      ]
     },
     "metadata": {},
     "output_type": "display_data"
    }
   ],
   "source": [
    "tableauToken = widgets.Password(\n",
    "    placeholder='Enter Tableau Token',\n",
    "    description='Tableau Token:',\n",
    "    disabled=False\n",
    ")\n",
    "display(tableauToken)\n",
    "\n",
    "canvasToken = widgets.Password(\n",
    "    placeholder='Enter Canvas Token',\n",
    "    description='Canvas Token:',\n",
    "    disabled=False\n",
    ")\n",
    "display(canvasToken)"
   ]
  },
  {
   "cell_type": "code",
   "execution_count": 8,
   "id": "c2754a54",
   "metadata": {},
   "outputs": [],
   "source": [
    "tableau_auth = TSC.PersonalAccessTokenAuth('Python', tableauToken.value, 'ivytechcommunitycollege')\n",
    "server = TSC.Server('https://us-east-1.online.tableau.com', use_server_version=True)"
   ]
  },
  {
   "cell_type": "code",
   "execution_count": 9,
   "id": "5f6e780c",
   "metadata": {},
   "outputs": [],
   "source": [
    "CANVAS_API_URL = \"https://ivytech.instructure.com\"\n",
    "canvas = Canvas(CANVAS_API_URL, canvasToken.value)"
   ]
  },
  {
   "cell_type": "code",
   "execution_count": 10,
   "id": "fbe1d6ee",
   "metadata": {},
   "outputs": [],
   "source": [
    "def csv_to_pandas(csv):\n",
    "    # create an empty string\n",
    "    mydata = \"\"\n",
    "    # for every row in the raw csv file, decode as utf-8 text and append to the empty string\n",
    "    for row in csv.csv:\n",
    "        mydata = mydata + row.decode('utf-8')\n",
    "    # StringIO lets us treat a string as if it was a file, for functions that expect files as input\n",
    "    p = pd.read_csv(StringIO(mydata))\n",
    "    return p"
   ]
  },
  {
   "cell_type": "code",
   "execution_count": 11,
   "id": "57f80068",
   "metadata": {},
   "outputs": [],
   "source": [
    "# we've hardcoded the id of the view here - explain later.\n",
    "with server.auth.sign_in(tableau_auth):\n",
    "    view_id = \"3b1377aa-baaa-417a-9006-3b5c5eac403e\"\n",
    "    view = server.views.get_by_id(view_id)\n",
    "    server.views.populate_csv(view)\n",
    "    df = csv_to_pandas(view)"
   ]
  },
  {
   "cell_type": "code",
   "execution_count": 12,
   "id": "02c2e460",
   "metadata": {},
   "outputs": [],
   "source": [
    "# pandas - remove (in-place, modifying existing dataframe) all rows\n",
    "# in which the value in the given column is not 'Y'\n",
    "df.drop(df[df['Registered in 2nd-8 Only'] != 'Y'].index, inplace = True)"
   ]
  },
  {
   "cell_type": "code",
   "execution_count": null,
   "id": "2b042809",
   "metadata": {},
   "outputs": [],
   "source": [
    "# get the original course in which they were erroneously enrolled before\n",
    "## can be removed after this next batch of runs most likely\n",
    "# also get the section id of the target course\n",
    "original_course = 1102530\n",
    "nosa_course = \"placeholder\"\n",
    "course = canvas.get_course(original_course)\n",
    "\n",
    "# get all student ids for students who are still active in the original course\n",
    "students = course.get_users(enrollment_types=['Student'])\n",
    "\n",
    "# fancy python way of building a list\n",
    "studentids = [x.sis_user_id for x in students]"
   ]
  },
  {
   "cell_type": "code",
   "execution_count": null,
   "id": "c8cb4d33",
   "metadata": {},
   "outputs": [],
   "source": [
    "# pandas filter - display only students who are *not* in the list of student ids\n",
    "# of students who were in the original course\n",
    "df_filtered = df[~df['Student Id'].isin(studentids)]"
   ]
  },
  {
   "cell_type": "code",
   "execution_count": null,
   "id": "9c56ff62",
   "metadata": {},
   "outputs": [],
   "source": [
    "# text header row for our enrollments csv - \\n means newline\n",
    "enrollments = [\"section_id,user_id,role,status\\n\"]\n",
    "# add a line for each student enrollment\n",
    "for index, row in df_filtered.iterrows():\n",
    "    enrollments.append(f\"{nosa_course},{row['Student Id']},student,active\\n\")"
   ]
  },
  {
   "cell_type": "code",
   "execution_count": null,
   "id": "273e2cef",
   "metadata": {},
   "outputs": [],
   "source": [
    "# combine the list of enrollments into one big string\n",
    "txt_enrollments = ''.join(enrollments)"
   ]
  },
  {
   "cell_type": "code",
   "execution_count": null,
   "id": "75c9e44a",
   "metadata": {},
   "outputs": [],
   "source": [
    "# stolen from https://stackoverflow.com/questions/61708701/how-to-download-a-file-using-ipywidget-button\n",
    "# this takes the string list of enrollments from before and displays an html button that'll send the user the\n",
    "# enrollments.txt we generated.\n",
    "\n",
    "res = 'computed results'\n",
    "\n",
    "#FILE\n",
    "filename = 'enrollments.txt'\n",
    "b64 = base64.b64encode(txt_enrollments.encode())\n",
    "payload = b64.decode()\n",
    "\n",
    "#BUTTONS\n",
    "html_buttons = '''<html>\n",
    "<head>\n",
    "<meta name=\"viewport\" content=\"width=device-width, initial-scale=1\">\n",
    "</head>\n",
    "<body>\n",
    "<a download=\"{filename}\" href=\"data:text/csv;base64,{payload}\" download>\n",
    "<button class=\"p-Widget jupyter-widgets jupyter-button widget-button mod-warning\">Download File</button>\n",
    "</a>\n",
    "</body>\n",
    "</html>\n",
    "'''\n",
    "\n",
    "html_button = html_buttons.format(payload=payload,filename=filename)\n",
    "display(HTML(html_button))"
   ]
  },
  {
   "cell_type": "code",
   "execution_count": null,
   "id": "b6958de4",
   "metadata": {},
   "outputs": [],
   "source": []
  }
 ],
 "metadata": {
  "kernelspec": {
   "display_name": "Python 3",
   "language": "python",
   "name": "python3"
  },
  "language_info": {
   "codemirror_mode": {
    "name": "ipython",
    "version": 3
   },
   "file_extension": ".py",
   "mimetype": "text/x-python",
   "name": "python",
   "nbconvert_exporter": "python",
   "pygments_lexer": "ipython3",
   "version": "3.8.8"
  }
 },
 "nbformat": 4,
 "nbformat_minor": 5
}
