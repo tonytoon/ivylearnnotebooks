{
  "nbformat": 4,
  "nbformat_minor": 0,
  "metadata": {
    "colab": {
      "name": "outcomes enrollment",
      "private_outputs": true,
      "provenance": [],
      "collapsed_sections": [],
      "authorship_tag": "ABX9TyOlyT2SwJawlgN4RJnHIRXt",
      "include_colab_link": true
    },
    "kernelspec": {
      "name": "python3",
      "display_name": "Python 3"
    },
    "language_info": {
      "name": "python"
    }
  },
  "cells": [
    {
      "cell_type": "markdown",
      "metadata": {
        "id": "view-in-github",
        "colab_type": "text"
      },
      "source": [
        "<a href=\"https://colab.research.google.com/github/tonytoon/ivylearnnotebooks/blob/main/outcomes_enrollment.ipynb\" target=\"_parent\"><img src=\"https://colab.research.google.com/assets/colab-badge.svg\" alt=\"Open In Colab\"/></a>"
      ]
    },
    {
      "cell_type": "markdown",
      "source": [
        "This script will generate an SIS feed file for outcomes organizations. This feed file will generate all organizations, sections, and enrollments.\n",
        "\n",
        "It is run as a diffed update which will mark any enrollments that do not exist in a future run against the same diff data ID as inactive.\n",
        "\n",
        "To configure for each term, ensure that outcomes_courses, term, and term_suffix are all properly entered.\n",
        "\n",
        "It will generate a .zip file containing three .csv files which can be uploaded to the sis feed section of the admin panel in Canvas."
      ],
      "metadata": {
        "id": "tsMikm2s8ZAD"
      }
    },
    {
      "cell_type": "code",
      "source": [
        "!pip install canvasapi"
      ],
      "metadata": {
        "id": "ch_u_ZQpAaX8"
      },
      "execution_count": null,
      "outputs": []
    },
    {
      "cell_type": "code",
      "source": [
        "from canvasapi import Canvas # used for interfacing with canvas\n",
        "from zipfile import ZipFile\n",
        "import csv\n",
        "# Canvas API URL\n",
        "# ALWAYS test scripts on the beta server until you are 100% that it will work properly.\n",
        "#API_URL = \"https://.instructure.com\" # prod\n",
        "API_URL = \"https://.beta.instructure.com\" # beta\n",
        "\n",
        "# Canvas API key\n",
        "#API_KEY = \"\" #prod\n",
        "API_KEY = \"\" #beta\n",
        "\n",
        "# Initialize a new Canvas object\n",
        "canvas = Canvas(API_URL, API_KEY)\n",
        "account = canvas.get_account(417) # \n",
        "outcomes_account = canvas.get_account(16179) "
      ],
      "metadata": {
        "id": "7928zeek-QI2"
      },
      "execution_count": null,
      "outputs": []
    },
    {
      "cell_type": "code",
      "source": [
        "# list of courses needing outcomes organizations\n",
        "outcomes_courses = [\"ACCT101\", \"BIOL101\", \"BUSI279\", \"BUSN101\", \"CPIN279\", \"CRIM260\", \"HIST101\", \"HLHS101\", \"HLHS105\", \"HUMS279\", \"MATH123\", \"PSYC101\", \"SOCI111\"]\n",
        "\n",
        "# term/acct information\n",
        "term = 3265\n",
        "term_suffix = \"202210\"\n",
        "\n",
        "########### nothing below this line should need to modified per term\n",
        "\n",
        "# account / org info\n",
        "outcomes_acct = \"SW-OUTCOMES-ORGZ\" \n",
        "org_suffix = \"-OUTCOMES-SW-ORGZ-\" + term_suffix + \"-INI\"\n",
        "\n",
        "# part of term codes\n",
        "termcodes = [\"81X\", \"82X\", \"16R\", \"ZDC\"]\n",
        "\n",
        "# diffing options\n",
        "# see: https://canvas.instructure.com/doc/api/file.sis_csv.html\n",
        "diff_code = \"OUTCOMES-\" + term_suffix\n",
        "diff_remaster = False\n",
        "clear_sticky = True\n",
        "override_sticky = True"
      ],
      "metadata": {
        "id": "wENNYRTDRSvc"
      },
      "execution_count": null,
      "outputs": []
    },
    {
      "cell_type": "code",
      "source": [
        "# file handling\n",
        "courses_filename = \"courses.csv\"\n",
        "courses_header = [\"course_id\",\"short_name\",\"long_name\",\"account_id\",\"status\"]\n",
        "\n",
        "sections_filename = \"sections.csv\"\n",
        "sections_header = [\"section_id\", \"course_id\", \"name\", \"status\"]\n",
        "\n",
        "enrollments_filename = \"enrollments.csv\"\n",
        "enrollments_header = [\"course_id\",\"user_id\",\"role\",\"section_id\",\"status\",\"limit_section_privileges\"]\n"
      ],
      "metadata": {
        "id": "zxMw6dKkWe29"
      },
      "execution_count": null,
      "outputs": []
    },
    {
      "cell_type": "code",
      "source": [
        "# generate courses\n",
        "courses = []\n",
        "\n",
        "# we want source courses of: ACCT101 in P1 sub-account\n",
        "# to create a single org of: ACCT101-OUTCOMES-SW-ORGZ-202210-INI\n",
        "\n",
        "for course_code in outcomes_courses:\n",
        "  courses.append([f\"{course_code}{org_suffix}\",f\"{course_code}{org_suffix}\",f\"{course_code}{org_suffix}\",outcomes_acct,\"ACTIVE\"])"
      ],
      "metadata": {
        "id": "YtDptCs5Z1nW"
      },
      "execution_count": null,
      "outputs": []
    },
    {
      "cell_type": "code",
      "source": [
        "# write courses.csv\n",
        "with open(courses_filename, 'w', encoding='UTF8', newline='') as csvfile:\n",
        "  csvwriter = csv.writer(csvfile)\n",
        "  csvwriter.writerow(courses_header)\n",
        "  csvwriter.writerows(courses)"
      ],
      "metadata": {
        "id": "9a4v1Rwmdcoa"
      },
      "execution_count": null,
      "outputs": []
    },
    {
      "cell_type": "code",
      "source": [
        "# generate sections\n",
        "sections = []\n",
        "\n",
        "# we want a source course of:       ACCT101-0AC-C1-202210-VI-81X\n",
        "# to create an outcomes section of: ACCT101-0AC-C1-202210-VI-OUTCOMES-81X\n",
        "# in the organization:              ACCT101-OUTCOMES-SW-ORGZ-202210-INI\n",
        "\n",
        "for course_code in outcomes_courses:\n",
        "  src_courses = account.get_courses(search_term=course_code, enrollment_term_id=term)\n",
        "  for c in src_courses:\n",
        "    section = c.course_code\n",
        "    for tc in termcodes:\n",
        "      section = section.replace(tc, f\"OUTCOMES-{tc}\")\n",
        "    sections.append([section, f\"{course_code}{org_suffix}\",section,\"ACTIVE\"])\n"
      ],
      "metadata": {
        "id": "M6UgJU-nYE2P"
      },
      "execution_count": null,
      "outputs": []
    },
    {
      "cell_type": "code",
      "source": [
        "# write sections.csv\n",
        "with open(sections_filename, 'w', encoding='UTF8', newline='') as csvfile:\n",
        "  csvwriter = csv.writer(csvfile)\n",
        "  csvwriter.writerow(sections_header)\n",
        "  csvwriter.writerows(sections)"
      ],
      "metadata": {
        "id": "rYnipEGPlvvx"
      },
      "execution_count": null,
      "outputs": []
    },
    {
      "cell_type": "code",
      "source": [
        "# generate enrollments\n",
        "enrollments = []\n",
        "\n",
        "for course_code in outcomes_courses:\n",
        "  src_courses = account.get_courses(search_term=course_code, enrollment_term_id=term)\n",
        "  target_org = f\"{course_code}{org_suffix}\"\n",
        "  for c in src_courses:\n",
        "    section = c.course_code\n",
        "    for tc in termcodes:\n",
        "      section = section.replace(tc, f\"OUTCOMES-{tc}\")\n",
        "\n",
        "    # add students\n",
        "    s_users = c.get_users(enrollment_type=['student'])\n",
        "    for s in s_users:\n",
        "      enrollments.append([target_org,s.sis_user_id,\"student\",section,\"active\",\"TRUE\"])\n",
        "\n",
        "    # add instructors\n",
        "    # we use the Outcomes Instructor role in the outcomes org\n",
        "    # for custom permissions\n",
        "    t_users = c.get_users(enrollment_type=['teacher'])\n",
        "    for t in t_users:\n",
        "      enrollments.append([target_org,t.sis_user_id,\"Outcomes Instructor\",section,\"active\",\"TRUE\"])"
      ],
      "metadata": {
        "id": "FUF9pcKjx4Id"
      },
      "execution_count": null,
      "outputs": []
    },
    {
      "cell_type": "code",
      "source": [
        "# write enrollments.csv\n",
        "with open(enrollments_filename, 'w', encoding='UTF8', newline='') as csvfile:\n",
        "  csvwriter = csv.writer(csvfile)\n",
        "  csvwriter.writerow(enrollments_header)\n",
        "  csvwriter.writerows(enrollments)"
      ],
      "metadata": {
        "id": "IRTqjkL0YahO"
      },
      "execution_count": null,
      "outputs": []
    },
    {
      "cell_type": "code",
      "source": [
        "# create zip file to upload\n",
        "zipObj = ZipFile('outcomes_enrollments.zip', 'w')\n",
        "zipObj.write(courses_filename)\n",
        "zipObj.write(sections_filename)\n",
        "zipObj.write(enrollments_filename)\n",
        "zipObj.close()"
      ],
      "metadata": {
        "id": "1pVTEOQqGymw"
      },
      "execution_count": null,
      "outputs": []
    },
    {
      "cell_type": "code",
      "source": [
        "# upload sis feed\n",
        "# check https://canvas.instructure.com/doc/api/file.sis_csv.html\n",
        "# since we use diffing, we have to use the api\n",
        "account.create_sis_import(\"outcomes_enrollments.zip\", diffing_data_set_identifier=diff_code, diffing_drop_status=\"inactive\", diffing_remaster_data_set=diff_remaster, override_sis_stickiness=override_sticky, clear_sis_stickiness=clear_sticky)"
      ],
      "metadata": {
        "id": "17NPixYQxXbB"
      },
      "execution_count": null,
      "outputs": []
    }
  ]
}